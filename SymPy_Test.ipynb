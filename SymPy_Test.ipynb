{
 "cells": [
  {
   "cell_type": "code",
   "execution_count": 39,
   "metadata": {},
   "outputs": [],
   "source": [
    "from sympy import *"
   ]
  },
  {
   "cell_type": "markdown",
   "metadata": {},
   "source": [
    "In SymPy ist es relativ einfach symbolisch zu integrieren. Dazu müssen lediglich die Symbole und der Integrant angegeben werden."
   ]
  },
  {
   "cell_type": "code",
   "execution_count": 40,
   "metadata": {},
   "outputs": [
    {
     "data": {
      "text/latex": [
       "$\\displaystyle \\sin{\\left(x \\right)}$"
      ],
      "text/plain": [
       "sin(x)"
      ]
     },
     "execution_count": 40,
     "metadata": {},
     "output_type": "execute_result"
    }
   ],
   "source": [
    "x, y, z = symbols('x y z')\n",
    "integrate(cos(x), x)"
   ]
  },
  {
   "cell_type": "markdown",
   "metadata": {},
   "source": [
    "Auch bestimme Integrale sind unter Angabe der Grenzen leicht lösbar."
   ]
  },
  {
   "cell_type": "code",
   "execution_count": 41,
   "metadata": {},
   "outputs": [
    {
     "data": {
      "text/latex": [
       "$\\displaystyle 1$"
      ],
      "text/plain": [
       "1"
      ]
     },
     "execution_count": 41,
     "metadata": {},
     "output_type": "execute_result"
    }
   ],
   "source": [
    "integrate(exp(-x), (x, 0, oo))"
   ]
  },
  {
   "cell_type": "markdown",
   "metadata": {},
   "source": [
    "Möchte man Variable Grenzen einsetzen, so ist das möglich insofern die Symbole vorhanden sind:"
   ]
  },
  {
   "cell_type": "code",
   "execution_count": 42,
   "metadata": {},
   "outputs": [
    {
     "data": {
      "text/latex": [
       "$\\displaystyle - e^{- z} + e^{- y}$"
      ],
      "text/plain": [
       "-exp(-z) + exp(-y)"
      ]
     },
     "execution_count": 42,
     "metadata": {},
     "output_type": "execute_result"
    }
   ],
   "source": [
    "integrate(exp(-x), (x, y, z))"
   ]
  },
  {
   "cell_type": "markdown",
   "metadata": {},
   "source": [
    "Doppelintegrale lassen sich wie folgt lösen:\n"
   ]
  },
  {
   "cell_type": "code",
   "execution_count": 43,
   "metadata": {},
   "outputs": [
    {
     "data": {
      "text/latex": [
       "$\\displaystyle \\pi$"
      ],
      "text/plain": [
       "pi"
      ]
     },
     "execution_count": 43,
     "metadata": {},
     "output_type": "execute_result"
    }
   ],
   "source": [
    "integrate(exp(-x**2 - y**2), (x, -oo, oo), (y, -oo, oo))"
   ]
  },
  {
   "cell_type": "markdown",
   "metadata": {},
   "source": [
    "Unser Ziel ist es die Herleitung der Simpson-Regal symbolisch nachvollziehen zu können.\n",
    "Im folgenden ist eine Vorlage abgebildet.\n",
    "<img src=\"files/img/sympy.PNG\" alt=\"Drawing\" style=\"width: 350px;\"/>\n",
    "Wir definieren zunächst alle erforderlichen Symbole und vereinfachen. Der Befehl ratsimp sucht den gemiensamen Nenner und stellt als Bruch dar:"
   ]
  },
  {
   "cell_type": "code",
   "execution_count": 44,
   "metadata": {},
   "outputs": [
    {
     "data": {
      "text/latex": [
       "$\\displaystyle 1 - \\frac{4 a b - 4 a x - 4 b x + 4 x^{2}}{a^{2} - 2 a b + b^{2}} + \\frac{a b - a x + b^{2} - 3 b x + 2 x^{2}}{a^{2} - 2 a b + b^{2}} + \\frac{3 a b - 3 a x - b^{2} - b x + 2 x^{2}}{a^{2} - 2 a b + b^{2}}$"
      ],
      "text/plain": [
       "1 - (4*a*b - 4*a*x - 4*b*x + 4*x**2)/(a**2 - 2*a*b + b**2) + (a*b - a*x + b**2 - 3*b*x + 2*x**2)/(a**2 - 2*a*b + b**2) + (3*a*b - 3*a*x - b**2 - b*x + 2*x**2)/(a**2 - 2*a*b + b**2)"
      ]
     },
     "execution_count": 44,
     "metadata": {},
     "output_type": "execute_result"
    }
   ],
   "source": [
    "x, m, b, a, h = symbols('x m b a h') #definiere alle symbole\n",
    "\n",
    "#definiere die Gleichungen\n",
    "l1 = (x-m)*(x-b)/((a-m)*(a-b))\n",
    "l2 = (x-a)*(x-b)/((m-a)*(m-b))\n",
    "l3 = (x-a)*(x-m)/((b-a)*(b-m))\n",
    "#Substituiere m (sympy macht das nicht automatisch)\n",
    "l1 = l1.subs(m,((a+b)/2))\n",
    "l2 = l2.subs(m,((a+b)/2))\n",
    "l3 = l3.subs(m,((a+b)/2))\n",
    "#Fasse zusammen\n",
    "l1 = ratsimp(l1)\n",
    "l2 = ratsimp(l2)\n",
    "l3 = ratsimp(l3)\n",
    "l1 + l2 + l3"
   ]
  },
  {
   "cell_type": "markdown",
   "metadata": {},
   "source": [
    "Nun berechnen wir die Integrale für: \n",
    "\n",
    "$\\int_{x_i}^{x_{i+1}} h_i(x) dx$  \n",
    "\n",
    "$\\int_{x_i}^{x_{i+1}} h_{i+1}(x) dx$ und \n",
    "\n",
    "$\\int_{x_i}^{x_{i+1}} h_m(x) dx$"
   ]
  },
  {
   "cell_type": "code",
   "execution_count": 52,
   "metadata": {},
   "outputs": [
    {
     "data": {
      "text/latex": [
       "$\\displaystyle - \\frac{a}{6} + \\frac{b}{6}$"
      ],
      "text/plain": [
       "-a/6 + b/6"
      ]
     },
     "execution_count": 52,
     "metadata": {},
     "output_type": "execute_result"
    }
   ],
   "source": [
    "l11 = ratsimp(integrate(l1, (x, a, b)))\n",
    "l21 = ratsimp(integrate(l2, (x, a, b)))\n",
    "l31 = ratsimp(integrate(l3, (x, a, b)))\n",
    "l11.subs(b-a,h) #Problem"
   ]
  },
  {
   "cell_type": "markdown",
   "metadata": {},
   "source": [
    "Hier stoßen wir auf ein großen Problem: \n",
    "\n",
    "Sympy kann keine ganzen Ausdrüke substituieren, wenn diese nicht identisch in der Gleichung vorkommen.\n",
    "Folglich ist es nicht möglich h=b-a sinnvoll einzusetzen.\n",
    "\n",
    "### Es gäbe nun 2 Lösungsmöglichkeiten:\n",
    "\n",
    "* So lange mit Sympy Vereinfachungen experimentieren, bis man die gewünschten Ausdrücke 1 zu 1 darstellen kann\n",
    "* Die Substitution umformen, sodass nur ein Ausdruck ersetzt werden muss\n",
    "\n",
    "Im folgenden ist die zweite weil mathematisch elegantere Lösung gewählt worden.\n",
    "Da wir h=b-a substituieren wollen, können wir anstelle a=b-h substituieren. "
   ]
  },
  {
   "cell_type": "code",
   "execution_count": 60,
   "metadata": {},
   "outputs": [
    {
     "data": {
      "text/latex": [
       "$\\displaystyle \\frac{h}{6}$"
      ],
      "text/plain": [
       "h/6"
      ]
     },
     "execution_count": 60,
     "metadata": {},
     "output_type": "execute_result"
    }
   ],
   "source": [
    "l11.subs(a,b-h)"
   ]
  },
  {
   "cell_type": "code",
   "execution_count": 61,
   "metadata": {},
   "outputs": [
    {
     "data": {
      "text/latex": [
       "$\\displaystyle \\frac{2 h}{3}$"
      ],
      "text/plain": [
       "2*h/3"
      ]
     },
     "execution_count": 61,
     "metadata": {},
     "output_type": "execute_result"
    }
   ],
   "source": [
    "l21.subs(a,b-h)"
   ]
  },
  {
   "cell_type": "code",
   "execution_count": 62,
   "metadata": {},
   "outputs": [
    {
     "data": {
      "text/latex": [
       "$\\displaystyle \\frac{h}{6}$"
      ],
      "text/plain": [
       "h/6"
      ]
     },
     "execution_count": 62,
     "metadata": {},
     "output_type": "execute_result"
    }
   ],
   "source": [
    "l31.subs(a,b-h)\n"
   ]
  },
  {
   "cell_type": "markdown",
   "metadata": {},
   "source": [
    "Damit ist der Zusammenhang aus dem Skript gezeigt!"
   ]
  },
  {
   "cell_type": "code",
   "execution_count": null,
   "metadata": {},
   "outputs": [],
   "source": []
  }
 ],
 "metadata": {
  "kernelspec": {
   "display_name": "Python 3",
   "language": "python",
   "name": "python3"
  },
  "language_info": {
   "codemirror_mode": {
    "name": "ipython",
    "version": 3
   },
   "file_extension": ".py",
   "mimetype": "text/x-python",
   "name": "python",
   "nbconvert_exporter": "python",
   "pygments_lexer": "ipython3",
   "version": "3.7.6"
  }
 },
 "nbformat": 4,
 "nbformat_minor": 2
}
